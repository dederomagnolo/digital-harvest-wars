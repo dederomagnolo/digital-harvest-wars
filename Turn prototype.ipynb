{
 "cells": [
  {
   "cell_type": "code",
   "execution_count": 106,
   "metadata": {},
   "outputs": [
    {
     "name": "stdout",
     "output_type": "stream",
     "text": [
      "The first player to play is:\n",
      "1\n",
      "Player 1 initial hand:\n",
      "[18, 21, 7, 17]\n",
      "Player 2 initial hand:\n",
      "[10, 18, 36, 15]\n"
     ]
    }
   ],
   "source": [
    "import random\n",
    "\n",
    "starterCollection = ['Melancólica lvl1', 'Melancólica lvl2', 'Melancólica lvl3','Giranívora lvl1', 'Giranívora lvl2', 'Giranívora lvl3'\n",
    "               , 'Vi-úva' , 'Batatata lvl1' , 'Batatata lvl2' , 'Kame-cenou-rá', 'Uva-parsa' , 'Berin-gela lvl1' , 'Berin-gela lvl2'\n",
    "               , 'Nomo' , 'ArquiNomo' , 'Pulgões' , 'Veneno' , 'Bidér' , 'Regador']\n",
    "\n",
    "boardPlayer1 = []\n",
    "boardPlayer2 = []\n",
    "\n",
    "discardPlayer1 = []\n",
    "discardPlayer2 = []\n",
    "\n",
    "#Create 30 card deck\n",
    "deck1 = list(range(1,41))\n",
    "deck2 = list(range(1,41))\n",
    "\n",
    "#function to draw first 4 cards\n",
    "def drawFourCards (deck):\n",
    "    initialHand = []\n",
    "    for i in range (1,5):\n",
    "        card = random.choice(deck)\n",
    "        initialHand.append(card)\n",
    "        deck.remove(card)\n",
    "    \n",
    "    return initialHand\n",
    "\n",
    "def whatCardIsInMyhand (hand):\n",
    "    newHand = []\n",
    "    for i in range (1, len(hand)-1):\n",
    "        newHand.append(starterCollection[hand[i]])\n",
    "    return newHand\n",
    "    \n",
    "player = list(range(1,3))\n",
    "firstPlayer = random.choice(player)\n",
    "print(\"The first player to play is:\")\n",
    "print(firstPlayer)\n",
    "\n",
    "initialHand1 = drawFourCards(deck1)\n",
    "#handPlayer1 = whatCardIsInMyhand(initialHand1)\n",
    "initialHand2 = drawFourCards(deck2)\n",
    "#handPlayer2 = whatCardIsInMyhand(initialHand1)\n",
    "\n",
    "print(\"Player 1 initial hand:\")\n",
    "print(initialHand1)\n",
    "print(\"Player 2 initial hand:\")\n",
    "print(initialHand2)\n",
    "\n",
    "handPlayer1 = initialHand1\n",
    "handPlayer2 = initialHand2"
   ]
  },
  {
   "cell_type": "code",
   "execution_count": 110,
   "metadata": {},
   "outputs": [
    {
     "name": "stdout",
     "output_type": "stream",
     "text": [
      "Player 1 hand:\n",
      "[18, 21, 7, 17, 36, 10, 4]\n",
      "Player 2 hand:\n",
      "[10, 18, 36, 15, 29, 16, 38]\n"
     ]
    }
   ],
   "source": [
    "#Draw a card for player 1 and player 2\n",
    "card = random.choice(deck1)\n",
    "deck1.remove(card)\n",
    "handPlayer1.append(card)\n",
    "\n",
    "card = random.choice(deck2)\n",
    "deck2.remove(card)\n",
    "handPlayer2.append(card)\n",
    "\n",
    "print(\"Player 1 hand:\")\n",
    "print(handPlayer1)\n",
    "print(\"Player 2 hand:\")\n",
    "print(handPlayer2)"
   ]
  },
  {
   "cell_type": "code",
   "execution_count": 111,
   "metadata": {},
   "outputs": [
    {
     "name": "stdout",
     "output_type": "stream",
     "text": [
      "Player 1 hand:\n",
      "[18, 21, 7, 17, 36, 10, 4]\n",
      "Player 1 board:\n",
      "[]\n",
      "#################\n",
      "Player 2 hand:\n",
      "[10, 18, 36, 15, 29, 16, 38]\n",
      "Player 2 board:\n",
      "[]\n"
     ]
    }
   ],
   "source": [
    "#play a cards in the board\n",
    "\n",
    "#PLAYER 1 BOARD\n",
    "card = 0 #put the card number in the argument\n",
    "\n",
    "if card != 0:\n",
    "    handPlayer1.remove(card)\n",
    "    boardPlayer1.append(card)\n",
    "\n",
    "#PLAYER 2 BOARD\n",
    "card = 0\n",
    "\n",
    "if card != 0:\n",
    "    handPlayer2.remove(card)\n",
    "    boardPlayer2.append(card)\n",
    "\n",
    "print(\"Player 1 hand:\")\n",
    "print(handPlayer1)\n",
    "print(\"Player 1 board:\")\n",
    "print(boardPlayer1)\n",
    "print(\"#################\")\n",
    "print(\"Player 2 hand:\")\n",
    "print(handPlayer2)\n",
    "print(\"Player 2 board:\")\n",
    "print(boardPlayer2)"
   ]
  },
  {
   "cell_type": "code",
   "execution_count": null,
   "metadata": {},
   "outputs": [],
   "source": [
    "#put a card in the discard pile\n",
    "card = 0\n",
    "discardPlayer1.append(card)"
   ]
  },
  {
   "cell_type": "code",
   "execution_count": 63,
   "metadata": {},
   "outputs": [
    {
     "name": "stdout",
     "output_type": "stream",
     "text": [
      "[12, 30, 13]\n"
     ]
    }
   ],
   "source": [
    "card = 0\n",
    "discardPlayer2.append(card)"
   ]
  }
 ],
 "metadata": {
  "kernelspec": {
   "display_name": "Python 3",
   "language": "python",
   "name": "python3"
  },
  "language_info": {
   "codemirror_mode": {
    "name": "ipython",
    "version": 3
   },
   "file_extension": ".py",
   "mimetype": "text/x-python",
   "name": "python",
   "nbconvert_exporter": "python",
   "pygments_lexer": "ipython3",
   "version": "3.7.3"
  }
 },
 "nbformat": 4,
 "nbformat_minor": 4
}
